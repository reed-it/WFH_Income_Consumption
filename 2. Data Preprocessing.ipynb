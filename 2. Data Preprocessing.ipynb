{
 "cells": [
  {
   "cell_type": "code",
   "execution_count": 1,
   "id": "d2f4f6f9-c224-420a-a7fd-049d4841cd7d",
   "metadata": {},
   "outputs": [],
   "source": [
    "#install pyreadstat ==> to read spss file\n",
    "#pip install pyreadstat"
   ]
  },
  {
   "cell_type": "markdown",
   "id": "37c604c8-ddbd-4f6b-bd96-40229b473155",
   "metadata": {},
   "source": [
    "In this notebook, we will calculate consumption using Aguiar & Bills (2015) measure and calculate the Consmption Inequality index of WFH and non-WFH households across time.\n",
    "Since the LCF survey is made up of thousands of respondents, we transform the data into a format that is suitable for a trend analysis.\n",
    "In a nutshell, we will aggregate the incomes and expenses for each year, grouped by WFH and non-WFH, and combine them into one timeseries dataframe."
   ]
  },
  {
   "cell_type": "code",
   "execution_count": 1,
   "id": "72cdf469-443d-4c3c-89c5-518bb101ce24",
   "metadata": {},
   "outputs": [
    {
     "name": "stdout",
     "output_type": "stream",
     "text": [
      "C:\\Users\\OMEN\\Anaconda3 Files\n"
     ]
    },
    {
     "name": "stderr",
     "output_type": "stream",
     "text": [
      "C:\\Users\\OMEN\\AppData\\Local\\Temp\\ipykernel_15832\\3450391093.py:9: FutureWarning: use_inf_as_na option is deprecated and will be removed in a future version. Convert inf values to NaN before operating instead.\n",
      "  pd.set_option('use_inf_as_na', True)\n"
     ]
    }
   ],
   "source": [
    "#importing required libraries\n",
    "import pandas as pd\n",
    "import numpy as np\n",
    "import pyreadstat as pyrs\n",
    "#set no limits on data display\n",
    "pd.set_option('display.max_colwidth', None)\n",
    "pd.set_option('display.max_columns', None)\n",
    "pd.set_option('display.max_rows', None)\n",
    "pd.set_option('use_inf_as_na', True)\n",
    "#getting the work directory\n",
    "import os \n",
    "cwd = os.getcwd()\n",
    "print(cwd)"
   ]
  },
  {
   "cell_type": "markdown",
   "id": "963e90c0-e082-4221-981f-06354fcb9e97",
   "metadata": {},
   "source": [
    "Import and clean the 'raw_per' table.\n",
    "In the section below, we wil import the raw_per tables which contain the WFH indicators. This indicator is only available from the 2020 data.\n",
    "We will also rename the WFH indicator to a standard naming convention, WfhCor."
   ]
  },
  {
   "cell_type": "code",
   "execution_count": 3,
   "id": "fded2c7b-724b-498a-a922-c787a64ca8f4",
   "metadata": {},
   "outputs": [],
   "source": [
    "#set list of required columns from the raw_per table.\n",
    "req_cols_raw_per = ['case','Person','person','WfhCor','WfhCor2','wfhcor2', 'predicted_wfh']"
   ]
  },
  {
   "cell_type": "code",
   "execution_count": 4,
   "id": "efe1dc4c-3009-4908-85b2-6aef2a42ea5d",
   "metadata": {},
   "outputs": [],
   "source": [
    "#importing raw_per table from SAV to dataframe.\n",
    "df_16_raw_per, meta_16_raw_per = pyrs.read_sav(\"UK LCF Data Sets/lcfs_2016_rawper_pseudo.sav\", usecols=req_cols_raw_per)\n",
    "df_17_raw_per, meta_17_raw_per = pyrs.read_sav(\"UK LCF Data Sets/lcfs_2017_rawper_pseudo.sav\", usecols=req_cols_raw_per)\n",
    "df_18_raw_per, meta_18_raw_per = pyrs.read_sav(\"UK LCF Data Sets/lcfs_2018_rawper_pseudo.sav\", usecols=req_cols_raw_per)\n",
    "df_19_raw_per, meta_19_raw_per = pyrs.read_sav(\"UK LCF Data Sets/lcfs_2019_rawper_pseudo.sav\", usecols=req_cols_raw_per)\n",
    "df_20_raw_per, meta_20_raw_per = pyrs.read_sav(\"UK LCF Data Sets/lcfs_2020_rawper_ukanon_final.sav\", usecols=req_cols_raw_per)\n",
    "df_21_raw_per, meta_21_raw_per = pyrs.read_sav(\"UK LCF Data Sets/lcfs_2021_rawper_ukanon_final.sav\", usecols=req_cols_raw_per)\n",
    "df_22_raw_per, meta_22_raw_per = pyrs.read_sav(\"UK LCF Data Sets/lcfs_2022_rawper_ukanon_final.sav\", usecols=req_cols_raw_per)"
   ]
  },
  {
   "cell_type": "code",
   "execution_count": 5,
   "id": "30070f0e-ea31-4ab7-97e4-381cf826e217",
   "metadata": {},
   "outputs": [],
   "source": [
    "### Delete old WfhCor indicator for prior 2020 data\n",
    "\n",
    "df_16_raw_per = df_16_raw_per.drop('WfhCor', axis=1)\n",
    "df_17_raw_per = df_17_raw_per.drop('WfhCor', axis=1)\n",
    "df_18_raw_per = df_18_raw_per.drop('WfhCor', axis=1)\n",
    "df_19_raw_per = df_19_raw_per.drop('WfhCor', axis=1)"
   ]
  },
  {
   "cell_type": "code",
   "execution_count": 6,
   "id": "0ccf1829-fe69-4ec2-88d6-940e73ec0415",
   "metadata": {},
   "outputs": [],
   "source": [
    "#rename column WfhCor2 to WfhCor to match other tables\n",
    "df_16_raw_per.rename(columns={\"predicted_wfh\": \"WfhCor\"}, inplace=True)\n",
    "df_17_raw_per.rename(columns={\"predicted_wfh\": \"WfhCor\"}, inplace=True)\n",
    "df_18_raw_per.rename(columns={\"predicted_wfh\": \"WfhCor\"}, inplace=True)\n",
    "df_19_raw_per.rename(columns={\"predicted_wfh\": \"WfhCor\"}, inplace=True)\n",
    "##### NO DF20 because its the base\n",
    "df_21_raw_per.rename(columns={\"WfhCor2\": \"WfhCor\"}, inplace=True)\n",
    "df_22_raw_per.rename(columns={\"wfhcor2\": \"WfhCor\"}, inplace=True)"
   ]
  },
  {
   "cell_type": "code",
   "execution_count": 7,
   "id": "810a8afe-c0cf-4ccc-a1f6-53862b0bd791",
   "metadata": {},
   "outputs": [],
   "source": [
    "#setting NaN values to 2 (which means no WFH).\n",
    "df_20_raw_per['WfhCor'] = df_20_raw_per['WfhCor'].fillna(2)\n",
    "df_21_raw_per['WfhCor'] = df_21_raw_per['WfhCor'].fillna(2)\n",
    "df_22_raw_per['WfhCor'] = df_22_raw_per['WfhCor'].fillna(2)\n",
    "\n",
    "#Setting the 0 values to 2 (which means no WFH)\n",
    "df_16_raw_per['WfhCor'] = df_16_raw_per['WfhCor'].map({0:2, 1:1})\n",
    "df_17_raw_per['WfhCor'] = df_17_raw_per['WfhCor'].map({0:2, 1:1})\n",
    "df_18_raw_per['WfhCor'] = df_18_raw_per['WfhCor'].map({0:2, 1:1})\n",
    "df_19_raw_per['WfhCor'] = df_19_raw_per['WfhCor'].map({0:2, 1:1})"
   ]
  },
  {
   "cell_type": "code",
   "execution_count": 8,
   "id": "0b441efa-5705-4730-a9e5-da84b505189a",
   "metadata": {},
   "outputs": [],
   "source": [
    "#Group the dataframes by case ID\n",
    "df_16_raw_per = df_16_raw_per.groupby(['case']).min()\n",
    "df_17_raw_per = df_17_raw_per.groupby(['case']).min()\n",
    "df_18_raw_per = df_18_raw_per.groupby(['case']).min()\n",
    "df_19_raw_per = df_19_raw_per.groupby(['case']).min()\n",
    "df_20_raw_per = df_20_raw_per.groupby(['case']).min()\n",
    "df_21_raw_per = df_21_raw_per.groupby(['case']).min()\n",
    "df_22_raw_per = df_22_raw_per.groupby(['case']).min()"
   ]
  },
  {
   "cell_type": "code",
   "execution_count": 9,
   "id": "1149b4d4-bd6e-49c8-a3f0-35abfa0edb17",
   "metadata": {},
   "outputs": [],
   "source": [
    "#drop Person column\n",
    "df_16_raw_per = df_16_raw_per.drop('Person', axis=1)\n",
    "df_17_raw_per = df_17_raw_per.drop('Person', axis=1)\n",
    "df_18_raw_per = df_18_raw_per.drop('Person', axis=1)\n",
    "df_19_raw_per = df_19_raw_per.drop('Person', axis=1)\n",
    "df_20_raw_per = df_20_raw_per.drop('Person', axis=1)\n",
    "df_21_raw_per = df_21_raw_per.drop('Person', axis=1)\n",
    "df_22_raw_per = df_22_raw_per.drop('person', axis=1)"
   ]
  },
  {
   "cell_type": "code",
   "execution_count": 10,
   "id": "91dce3de-063b-475f-9c7f-6f5602ae82ce",
   "metadata": {},
   "outputs": [
    {
     "name": "stdout",
     "output_type": "stream",
     "text": [
      "WfhCor\n",
      "2    3561\n",
      "1    1480\n",
      "Name: count, dtype: int64\n",
      "WfhCor\n",
      "2    3411\n",
      "1    1996\n",
      "Name: count, dtype: int64\n",
      "WfhCor\n",
      "2    3603\n",
      "1    1870\n",
      "Name: count, dtype: int64\n",
      "WfhCor\n",
      "2    3293\n",
      "1    2145\n",
      "Name: count, dtype: int64\n",
      "WfhCor\n",
      "2.0    3580\n",
      "1.0    1820\n",
      "Name: count, dtype: int64\n",
      "WfhCor\n",
      "2.0    3792\n",
      "1.0    1840\n",
      "Name: count, dtype: int64\n",
      "WfhCor\n",
      "2.0    3496\n",
      "1.0     964\n",
      "Name: count, dtype: int64\n"
     ]
    }
   ],
   "source": [
    "#list of DFs\n",
    "dataframes_raw = [df_16_raw_per,\n",
    "                  df_17_raw_per,\n",
    "                  df_18_raw_per,\n",
    "                  df_19_raw_per,\n",
    "                  df_20_raw_per,\n",
    "                  df_21_raw_per,\n",
    "                  df_22_raw_per]\n",
    "\n",
    "#see how many in each df is earning salaried wages\n",
    "\n",
    "for d in dataframes_raw:\n",
    "    print(d['WfhCor'].value_counts())"
   ]
  },
  {
   "cell_type": "markdown",
   "id": "1b1cda3e-4964-4bfa-b6c5-e4fb112013c0",
   "metadata": {},
   "source": [
    "Import and clean dvhh table.\n",
    "In the section below, we wil import the dv_hh tables which contain the derived household variables.\n",
    "We will also rename the variable codes to human readable descriptions."
   ]
  },
  {
   "cell_type": "code",
   "execution_count": 11,
   "id": "16d76163-ce35-40f1-940c-9c20877e0ffc",
   "metadata": {},
   "outputs": [],
   "source": [
    "#set list of required columns from dvhh table\n",
    "req_cols_dvhh = ['case','p425','p344p','p601t','p602t','p607t','p609t','p611t','p537t']"
   ]
  },
  {
   "cell_type": "code",
   "execution_count": 12,
   "id": "29900119-507d-4a03-84f7-8a816e596cdc",
   "metadata": {},
   "outputs": [],
   "source": [
    "#importing dvhh table from SAV to dataframe\n",
    "df_16, meta_16 = pyrs.read_sav(\"UK LCF Data Sets/2016_17_dvhh_ukanon.sav\", usecols=req_cols_dvhh)\n",
    "df_17, meta_17 = pyrs.read_sav(\"UK LCF Data Sets/2017_dvhh_ukanon_2017-18.sav\", usecols=req_cols_dvhh)\n",
    "df_18, meta_18 = pyrs.read_sav(\"UK LCF Data Sets/2018_dvhh_ukanon.sav\", usecols=req_cols_dvhh)\n",
    "df_19, meta_19 = pyrs.read_sav(\"UK LCF Data Sets/lcfs_2019_dvhh_ukanon.sav\", usecols=req_cols_dvhh)\n",
    "df_20, meta_20 = pyrs.read_sav(\"UK LCF Data Sets/lcfs_2020_dvhh_ukanon.sav\", usecols=req_cols_dvhh)\n",
    "df_21, meta_21 = pyrs.read_sav(\"UK LCF Data Sets/lcfs_2021_dvhh_ukanon.sav\", usecols=req_cols_dvhh)\n",
    "df_22, meta_22 = pyrs.read_sav(\"UK LCF Data Sets/lcfs_2022_dvhh_ukanon.sav\", usecols=req_cols_dvhh)"
   ]
  },
  {
   "cell_type": "markdown",
   "id": "9968e287-44d6-4830-9567-0b2cbfe5770f",
   "metadata": {},
   "source": [
    "Import data then join with raw_per table on case ID\n",
    "In this section, we will join the data extracted from the raw_per table to the extracted dv_hh table using case ID."
   ]
  },
  {
   "cell_type": "code",
   "execution_count": 13,
   "id": "8cd483b2-8347-41ec-97be-1c6ecdf4b579",
   "metadata": {},
   "outputs": [],
   "source": [
    "#join raw_per table to dvhh table\n",
    "df_16 = df_16.set_index('case').join(df_16_raw_per)\n",
    "df_17 = df_17.set_index('case').join(df_17_raw_per)\n",
    "df_18 = df_18.set_index('case').join(df_18_raw_per)\n",
    "df_19 = df_19.set_index('case').join(df_19_raw_per)\n",
    "df_20 = df_20.set_index('case').join(df_20_raw_per)\n",
    "df_21 = df_21.set_index('case').join(df_21_raw_per)\n",
    "df_22 = df_22.set_index('case').join(df_22_raw_per)"
   ]
  },
  {
   "cell_type": "markdown",
   "id": "821abcba-0919-43e0-a05a-5cbfe98b936d",
   "metadata": {},
   "source": [
    "Calculating Aguiar and Bills' measeure of consumption; ratio of luxury/necessity spending. Aguiar and Bills categorised luxury spending as entertainment or recreation expense and necessity spending as food at home expense."
   ]
  },
  {
   "cell_type": "code",
   "execution_count": 14,
   "id": "454e7f0b-a0c7-4e1d-b2de-7742ad39aba5",
   "metadata": {},
   "outputs": [],
   "source": [
    "#list of DFs\n",
    "dataframes = [df_16,df_17,df_18,df_19,df_20,df_21,df_22]\n",
    "\n",
    "# calculate the derived consumption for each observation in each df\n",
    "\n",
    "for d in dataframes:\n",
    "    d['derived_consumption'] = (d['p609t']/d['p601t'])*100"
   ]
  },
  {
   "cell_type": "markdown",
   "id": "b16e67f9-fbf2-457a-838b-63c618e92215",
   "metadata": {},
   "source": [
    "Aggregate the income and expenses value and group by WFH indicator.\n",
    "In this section, we separate the WFh and non-WFH respondents and calculate the 10th, and 90th percentile of each group's income and expenses.\n",
    "The measures of expense uses the COICOP (Classification of individual consumption by purpose) used by the European Union, except for the measures of housing and utilities expenses which used the Office of National Statistics' (ONS) method of measurement. This is because ONS mesurement differentiated the housing expenditure e.g., rent as separate from utilities expenditure e.g., gas for central heating."
   ]
  },
  {
   "cell_type": "code",
   "execution_count": 15,
   "id": "f24c230d-9133-4d07-80f5-dec030e91a8c",
   "metadata": {},
   "outputs": [],
   "source": [
    "# Create conditional DataFrame column by np.where() function.\n",
    "\n",
    "#create list and iterate to create wfh and non-wfh value columns\n",
    "wfh_list = ['p344p-wfh','p601t-wfh','p602t-wfh','p607t-wfh','p609t-wfh','p611t-wfh','p537t-wfh','derived_consumption-wfh']\n",
    "non_wfh_list = ['p344p-non_wfh','p601t-non_wfh','p602t-non_wfh','p607t-non_wfh','p609t-non_wfh','p611t-non_wfh','p537t-non_wfh','derived_consumption-non_wfh']\n",
    "main_list = ['p344p','p601t','p602t','p607t','p609t','p611t','p537t','derived_consumption']\n",
    "dataframes = [df_16,df_17,df_18,df_19,df_20,df_21,df_22]\n",
    "\n",
    "for k in dataframes:\n",
    "    for i, j, p in zip(wfh_list,main_list,non_wfh_list):\n",
    "        k[i] = np.where(k['WfhCor']== 1, k[j], float('nan'))\n",
    "        k[p] = np.where(k['WfhCor']== 2, k[j], float('nan'))"
   ]
  },
  {
   "cell_type": "markdown",
   "id": "30bef2fd-b92f-4fa3-92de-e522c4159b5c",
   "metadata": {},
   "source": [
    "Export the cleaned data to csv"
   ]
  },
  {
   "cell_type": "code",
   "execution_count": 16,
   "id": "66c34b91-7add-4515-b2db-ccc85e3a71a1",
   "metadata": {},
   "outputs": [],
   "source": [
    "df_16.to_csv('LCFS_2016_Clean.csv', encoding='utf-8', index=True)\n",
    "df_17.to_csv('LCFS_2017_Clean.csv', encoding='utf-8', index=True)\n",
    "df_18.to_csv('LCFS_2018_Clean.csv', encoding='utf-8', index=True)\n",
    "df_19.to_csv('LCFS_2019_Clean.csv', encoding='utf-8', index=True)\n",
    "df_20.to_csv('LCFS_2020_Clean.csv', encoding='utf-8', index=True)\n",
    "df_21.to_csv('LCFS_2021_Clean.csv', encoding='utf-8', index=True)\n",
    "df_22.to_csv('LCFS_2022_Clean.csv', encoding='utf-8', index=True)"
   ]
  },
  {
   "attachments": {},
   "cell_type": "markdown",
   "id": "548fc81d-50ae-419e-9946-99ebdf907521",
   "metadata": {},
   "source": [
    "This is the data preprocessing step to compile the annual survey data into 1 dataframe for diff-in-diff analysis.\n",
    "Columns required are: p425,p344p,derived_consumption,wfhcor. add column for year\n",
    "\n",
    "\n",
    "Below is the diff-in-diff regression model.\n"
   ]
  },
  {
   "cell_type": "code",
   "execution_count": 45,
   "id": "967c8df8-4760-4250-a336-3a3242a83941",
   "metadata": {},
   "outputs": [],
   "source": [
    "# Read CSV file into DataFrame\n",
    "\n",
    "req_cols = ['case', 'p425', 'p344p', 'derived_consumption', 'WfhCor']\n",
    "df_16 = pd.read_csv('UK LCF Data Set Clean/LCFS_2016_Clean.csv', usecols = req_cols)\n",
    "df_17 = pd.read_csv('UK LCF Data Set Clean/LCFS_2017_Clean.csv', usecols = req_cols)\n",
    "df_18 = pd.read_csv('UK LCF Data Set Clean/LCFS_2018_Clean.csv', usecols = req_cols)\n",
    "df_19 = pd.read_csv('UK LCF Data Set Clean/LCFS_2019_Clean.csv', usecols = req_cols)\n",
    "df_20 = pd.read_csv('UK LCF Data Set Clean/LCFS_2020_Clean.csv', usecols = req_cols)\n",
    "df_21 = pd.read_csv('UK LCF Data Set Clean/LCFS_2021_Clean.csv', usecols = req_cols)\n",
    "df_22 = pd.read_csv('UK LCF Data Set Clean/LCFS_2022_Clean.csv', usecols = req_cols)"
   ]
  },
  {
   "cell_type": "code",
   "execution_count": 46,
   "id": "fb3c6c05-bed4-45b6-beb4-c5aa5ff1b610",
   "metadata": {},
   "outputs": [],
   "source": [
    "# Add the survey year indicator\n",
    "df_16['year'] = 2016\n",
    "df_17['year'] = 2017\n",
    "df_18['year'] = 2018\n",
    "df_19['year'] = 2019\n",
    "df_20['year'] = 2020\n",
    "df_21['year'] = 2021\n",
    "df_22['year'] = 2022"
   ]
  },
  {
   "cell_type": "code",
   "execution_count": 47,
   "id": "fd05d73c-b0d3-48f1-ac90-83a6499fa418",
   "metadata": {},
   "outputs": [],
   "source": [
    "# Concatenate the dfs into one\n",
    "\n",
    "df_did = pd.concat([df_16, df_17, df_18, df_19, df_20, df_21, df_22])"
   ]
  },
  {
   "cell_type": "code",
   "execution_count": 51,
   "id": "b05e2e95-3365-42a3-9b5a-c8c7835d5f14",
   "metadata": {},
   "outputs": [
    {
     "data": {
      "text/plain": [
       "Index(['case', 'p425', 'p344p', 'WfhCor', 'derived_consumption', 'year',\n",
       "       'treatment'],\n",
       "      dtype='object')"
      ]
     },
     "execution_count": 51,
     "metadata": {},
     "output_type": "execute_result"
    }
   ],
   "source": [
    "# column names:\n",
    "\n",
    "df_did.columns"
   ]
  },
  {
   "cell_type": "code",
   "execution_count": 49,
   "id": "bc32250c-f4c5-4b8e-be57-e7e4898b8cfb",
   "metadata": {},
   "outputs": [],
   "source": [
    "# remap wfhcor values\n",
    "\n",
    "df_did['WfhCor'] = df_did['WfhCor'].map({2:0, 1:1})"
   ]
  },
  {
   "cell_type": "code",
   "execution_count": 50,
   "id": "b2f99415-c271-4df0-b7d8-93b05e99d823",
   "metadata": {},
   "outputs": [],
   "source": [
    "# Add treatment indicator if year >=2020\n",
    "\n",
    "df_did['treatment'] = np.where(df_did['year'] >=2020, 1,0 )"
   ]
  },
  {
   "cell_type": "code",
   "execution_count": 61,
   "id": "2c1447dc-585c-4352-b90d-31b5590e0322",
   "metadata": {},
   "outputs": [],
   "source": [
    "# Create dummy variables\n",
    "\n",
    "df_did_clean = pd.get_dummies(df_did, prefix=['year','WfhCor', 'treatment'], prefix_sep='_', columns=['year','WfhCor','treatment'], drop_first=False)"
   ]
  },
  {
   "cell_type": "code",
   "execution_count": 62,
   "id": "f5d36b4a-a55d-4d02-a07f-3eb93fb8f410",
   "metadata": {},
   "outputs": [
    {
     "data": {
      "text/html": [
       "<div>\n",
       "<style scoped>\n",
       "    .dataframe tbody tr th:only-of-type {\n",
       "        vertical-align: middle;\n",
       "    }\n",
       "\n",
       "    .dataframe tbody tr th {\n",
       "        vertical-align: top;\n",
       "    }\n",
       "\n",
       "    .dataframe thead th {\n",
       "        text-align: right;\n",
       "    }\n",
       "</style>\n",
       "<table border=\"1\" class=\"dataframe\">\n",
       "  <thead>\n",
       "    <tr style=\"text-align: right;\">\n",
       "      <th></th>\n",
       "      <th>case</th>\n",
       "      <th>p425</th>\n",
       "      <th>p344p</th>\n",
       "      <th>derived_consumption</th>\n",
       "      <th>year_2016</th>\n",
       "      <th>year_2017</th>\n",
       "      <th>year_2018</th>\n",
       "      <th>year_2019</th>\n",
       "      <th>year_2020</th>\n",
       "      <th>year_2021</th>\n",
       "      <th>year_2022</th>\n",
       "      <th>WfhCor_0</th>\n",
       "      <th>WfhCor_1</th>\n",
       "      <th>treatment_0</th>\n",
       "      <th>treatment_1</th>\n",
       "    </tr>\n",
       "  </thead>\n",
       "  <tbody>\n",
       "    <tr>\n",
       "      <th>4455</th>\n",
       "      <td>4456.0</td>\n",
       "      <td>1.0</td>\n",
       "      <td>1251.11</td>\n",
       "      <td>317.039883</td>\n",
       "      <td>False</td>\n",
       "      <td>False</td>\n",
       "      <td>False</td>\n",
       "      <td>False</td>\n",
       "      <td>False</td>\n",
       "      <td>False</td>\n",
       "      <td>True</td>\n",
       "      <td>True</td>\n",
       "      <td>False</td>\n",
       "      <td>False</td>\n",
       "      <td>True</td>\n",
       "    </tr>\n",
       "    <tr>\n",
       "      <th>4456</th>\n",
       "      <td>4457.0</td>\n",
       "      <td>2.0</td>\n",
       "      <td>409.63</td>\n",
       "      <td>13.431575</td>\n",
       "      <td>False</td>\n",
       "      <td>False</td>\n",
       "      <td>False</td>\n",
       "      <td>False</td>\n",
       "      <td>False</td>\n",
       "      <td>False</td>\n",
       "      <td>True</td>\n",
       "      <td>True</td>\n",
       "      <td>False</td>\n",
       "      <td>False</td>\n",
       "      <td>True</td>\n",
       "    </tr>\n",
       "    <tr>\n",
       "      <th>4457</th>\n",
       "      <td>4458.0</td>\n",
       "      <td>1.0</td>\n",
       "      <td>941.84</td>\n",
       "      <td>79.937362</td>\n",
       "      <td>False</td>\n",
       "      <td>False</td>\n",
       "      <td>False</td>\n",
       "      <td>False</td>\n",
       "      <td>False</td>\n",
       "      <td>False</td>\n",
       "      <td>True</td>\n",
       "      <td>False</td>\n",
       "      <td>True</td>\n",
       "      <td>False</td>\n",
       "      <td>True</td>\n",
       "    </tr>\n",
       "    <tr>\n",
       "      <th>4458</th>\n",
       "      <td>4459.0</td>\n",
       "      <td>2.0</td>\n",
       "      <td>1451.93</td>\n",
       "      <td>31.273255</td>\n",
       "      <td>False</td>\n",
       "      <td>False</td>\n",
       "      <td>False</td>\n",
       "      <td>False</td>\n",
       "      <td>False</td>\n",
       "      <td>False</td>\n",
       "      <td>True</td>\n",
       "      <td>True</td>\n",
       "      <td>False</td>\n",
       "      <td>False</td>\n",
       "      <td>True</td>\n",
       "    </tr>\n",
       "    <tr>\n",
       "      <th>4459</th>\n",
       "      <td>4460.0</td>\n",
       "      <td>1.0</td>\n",
       "      <td>1827.07</td>\n",
       "      <td>2.823008</td>\n",
       "      <td>False</td>\n",
       "      <td>False</td>\n",
       "      <td>False</td>\n",
       "      <td>False</td>\n",
       "      <td>False</td>\n",
       "      <td>False</td>\n",
       "      <td>True</td>\n",
       "      <td>True</td>\n",
       "      <td>False</td>\n",
       "      <td>False</td>\n",
       "      <td>True</td>\n",
       "    </tr>\n",
       "  </tbody>\n",
       "</table>\n",
       "</div>"
      ],
      "text/plain": [
       "        case  p425    p344p  derived_consumption  year_2016  year_2017  \\\n",
       "4455  4456.0   1.0  1251.11           317.039883      False      False   \n",
       "4456  4457.0   2.0   409.63            13.431575      False      False   \n",
       "4457  4458.0   1.0   941.84            79.937362      False      False   \n",
       "4458  4459.0   2.0  1451.93            31.273255      False      False   \n",
       "4459  4460.0   1.0  1827.07             2.823008      False      False   \n",
       "\n",
       "      year_2018  year_2019  year_2020  year_2021  year_2022  WfhCor_0  \\\n",
       "4455      False      False      False      False       True      True   \n",
       "4456      False      False      False      False       True      True   \n",
       "4457      False      False      False      False       True     False   \n",
       "4458      False      False      False      False       True      True   \n",
       "4459      False      False      False      False       True      True   \n",
       "\n",
       "      WfhCor_1  treatment_0  treatment_1  \n",
       "4455     False        False         True  \n",
       "4456     False        False         True  \n",
       "4457      True        False         True  \n",
       "4458     False        False         True  \n",
       "4459     False        False         True  "
      ]
     },
     "execution_count": 62,
     "metadata": {},
     "output_type": "execute_result"
    }
   ],
   "source": [
    "df_did_clean.tail()"
   ]
  },
  {
   "cell_type": "code",
   "execution_count": 63,
   "id": "409e2f0d-3d50-412d-b2f3-b708388aa5da",
   "metadata": {},
   "outputs": [],
   "source": [
    "# Drop the WfhCor_0 and treatment_0 columns\n",
    "df_did_clean.drop('WfhCor_0', axis=1, inplace=True)\n",
    "df_did_clean.drop('treatment_0', axis=1, inplace=True)"
   ]
  },
  {
   "cell_type": "code",
   "execution_count": 64,
   "id": "7a727a85-df27-458e-92d3-1cc9a68ca0ed",
   "metadata": {},
   "outputs": [
    {
     "data": {
      "text/html": [
       "<div>\n",
       "<style scoped>\n",
       "    .dataframe tbody tr th:only-of-type {\n",
       "        vertical-align: middle;\n",
       "    }\n",
       "\n",
       "    .dataframe tbody tr th {\n",
       "        vertical-align: top;\n",
       "    }\n",
       "\n",
       "    .dataframe thead th {\n",
       "        text-align: right;\n",
       "    }\n",
       "</style>\n",
       "<table border=\"1\" class=\"dataframe\">\n",
       "  <thead>\n",
       "    <tr style=\"text-align: right;\">\n",
       "      <th></th>\n",
       "      <th>case</th>\n",
       "      <th>p425</th>\n",
       "      <th>p344p</th>\n",
       "      <th>derived_consumption</th>\n",
       "      <th>year_2016</th>\n",
       "      <th>year_2017</th>\n",
       "      <th>year_2018</th>\n",
       "      <th>year_2019</th>\n",
       "      <th>year_2020</th>\n",
       "      <th>year_2021</th>\n",
       "      <th>year_2022</th>\n",
       "      <th>WfhCor_1</th>\n",
       "      <th>treatment_1</th>\n",
       "    </tr>\n",
       "  </thead>\n",
       "  <tbody>\n",
       "    <tr>\n",
       "      <th>0</th>\n",
       "      <td>1.0</td>\n",
       "      <td>1.0</td>\n",
       "      <td>844.864872</td>\n",
       "      <td>230.095704</td>\n",
       "      <td>True</td>\n",
       "      <td>False</td>\n",
       "      <td>False</td>\n",
       "      <td>False</td>\n",
       "      <td>False</td>\n",
       "      <td>False</td>\n",
       "      <td>False</td>\n",
       "      <td>False</td>\n",
       "      <td>False</td>\n",
       "    </tr>\n",
       "    <tr>\n",
       "      <th>1</th>\n",
       "      <td>2.0</td>\n",
       "      <td>1.0</td>\n",
       "      <td>873.197500</td>\n",
       "      <td>27.883846</td>\n",
       "      <td>True</td>\n",
       "      <td>False</td>\n",
       "      <td>False</td>\n",
       "      <td>False</td>\n",
       "      <td>False</td>\n",
       "      <td>False</td>\n",
       "      <td>False</td>\n",
       "      <td>True</td>\n",
       "      <td>False</td>\n",
       "    </tr>\n",
       "    <tr>\n",
       "      <th>2</th>\n",
       "      <td>3.0</td>\n",
       "      <td>5.0</td>\n",
       "      <td>333.914000</td>\n",
       "      <td>346.133146</td>\n",
       "      <td>True</td>\n",
       "      <td>False</td>\n",
       "      <td>False</td>\n",
       "      <td>False</td>\n",
       "      <td>False</td>\n",
       "      <td>False</td>\n",
       "      <td>False</td>\n",
       "      <td>False</td>\n",
       "      <td>False</td>\n",
       "    </tr>\n",
       "    <tr>\n",
       "      <th>3</th>\n",
       "      <td>4.0</td>\n",
       "      <td>5.0</td>\n",
       "      <td>1171.089500</td>\n",
       "      <td>145.377766</td>\n",
       "      <td>True</td>\n",
       "      <td>False</td>\n",
       "      <td>False</td>\n",
       "      <td>False</td>\n",
       "      <td>False</td>\n",
       "      <td>False</td>\n",
       "      <td>False</td>\n",
       "      <td>False</td>\n",
       "      <td>False</td>\n",
       "    </tr>\n",
       "    <tr>\n",
       "      <th>4</th>\n",
       "      <td>5.0</td>\n",
       "      <td>5.0</td>\n",
       "      <td>510.781500</td>\n",
       "      <td>27.224436</td>\n",
       "      <td>True</td>\n",
       "      <td>False</td>\n",
       "      <td>False</td>\n",
       "      <td>False</td>\n",
       "      <td>False</td>\n",
       "      <td>False</td>\n",
       "      <td>False</td>\n",
       "      <td>False</td>\n",
       "      <td>False</td>\n",
       "    </tr>\n",
       "  </tbody>\n",
       "</table>\n",
       "</div>"
      ],
      "text/plain": [
       "   case  p425        p344p  derived_consumption  year_2016  year_2017  \\\n",
       "0   1.0   1.0   844.864872           230.095704       True      False   \n",
       "1   2.0   1.0   873.197500            27.883846       True      False   \n",
       "2   3.0   5.0   333.914000           346.133146       True      False   \n",
       "3   4.0   5.0  1171.089500           145.377766       True      False   \n",
       "4   5.0   5.0   510.781500            27.224436       True      False   \n",
       "\n",
       "   year_2018  year_2019  year_2020  year_2021  year_2022  WfhCor_1  \\\n",
       "0      False      False      False      False      False     False   \n",
       "1      False      False      False      False      False      True   \n",
       "2      False      False      False      False      False     False   \n",
       "3      False      False      False      False      False     False   \n",
       "4      False      False      False      False      False     False   \n",
       "\n",
       "   treatment_1  \n",
       "0        False  \n",
       "1        False  \n",
       "2        False  \n",
       "3        False  \n",
       "4        False  "
      ]
     },
     "execution_count": 64,
     "metadata": {},
     "output_type": "execute_result"
    }
   ],
   "source": [
    "df_did_clean.head()"
   ]
  },
  {
   "cell_type": "code",
   "execution_count": 65,
   "id": "5ce63660-4464-4dc1-bd3f-d8845cda5af0",
   "metadata": {},
   "outputs": [],
   "source": [
    "df_did_clean['did_effect'] = df_did_clean['WfhCor_1'] * df_did_clean['treatment_1']"
   ]
  },
  {
   "cell_type": "code",
   "execution_count": 67,
   "id": "39be4c79-e5a6-4a69-8c4f-0eba92cb16d3",
   "metadata": {},
   "outputs": [
    {
     "data": {
      "text/html": [
       "<div>\n",
       "<style scoped>\n",
       "    .dataframe tbody tr th:only-of-type {\n",
       "        vertical-align: middle;\n",
       "    }\n",
       "\n",
       "    .dataframe tbody tr th {\n",
       "        vertical-align: top;\n",
       "    }\n",
       "\n",
       "    .dataframe thead th {\n",
       "        text-align: right;\n",
       "    }\n",
       "</style>\n",
       "<table border=\"1\" class=\"dataframe\">\n",
       "  <thead>\n",
       "    <tr style=\"text-align: right;\">\n",
       "      <th></th>\n",
       "      <th>case</th>\n",
       "      <th>p425</th>\n",
       "      <th>p344p</th>\n",
       "      <th>derived_consumption</th>\n",
       "      <th>year_2016</th>\n",
       "      <th>year_2017</th>\n",
       "      <th>year_2018</th>\n",
       "      <th>year_2019</th>\n",
       "      <th>year_2020</th>\n",
       "      <th>year_2021</th>\n",
       "      <th>year_2022</th>\n",
       "      <th>WfhCor_1</th>\n",
       "      <th>treatment_1</th>\n",
       "      <th>did_effect</th>\n",
       "    </tr>\n",
       "  </thead>\n",
       "  <tbody>\n",
       "    <tr>\n",
       "      <th>4455</th>\n",
       "      <td>4456.0</td>\n",
       "      <td>1.0</td>\n",
       "      <td>1251.11</td>\n",
       "      <td>317.039883</td>\n",
       "      <td>False</td>\n",
       "      <td>False</td>\n",
       "      <td>False</td>\n",
       "      <td>False</td>\n",
       "      <td>False</td>\n",
       "      <td>False</td>\n",
       "      <td>True</td>\n",
       "      <td>False</td>\n",
       "      <td>True</td>\n",
       "      <td>False</td>\n",
       "    </tr>\n",
       "    <tr>\n",
       "      <th>4456</th>\n",
       "      <td>4457.0</td>\n",
       "      <td>2.0</td>\n",
       "      <td>409.63</td>\n",
       "      <td>13.431575</td>\n",
       "      <td>False</td>\n",
       "      <td>False</td>\n",
       "      <td>False</td>\n",
       "      <td>False</td>\n",
       "      <td>False</td>\n",
       "      <td>False</td>\n",
       "      <td>True</td>\n",
       "      <td>False</td>\n",
       "      <td>True</td>\n",
       "      <td>False</td>\n",
       "    </tr>\n",
       "    <tr>\n",
       "      <th>4457</th>\n",
       "      <td>4458.0</td>\n",
       "      <td>1.0</td>\n",
       "      <td>941.84</td>\n",
       "      <td>79.937362</td>\n",
       "      <td>False</td>\n",
       "      <td>False</td>\n",
       "      <td>False</td>\n",
       "      <td>False</td>\n",
       "      <td>False</td>\n",
       "      <td>False</td>\n",
       "      <td>True</td>\n",
       "      <td>True</td>\n",
       "      <td>True</td>\n",
       "      <td>True</td>\n",
       "    </tr>\n",
       "    <tr>\n",
       "      <th>4458</th>\n",
       "      <td>4459.0</td>\n",
       "      <td>2.0</td>\n",
       "      <td>1451.93</td>\n",
       "      <td>31.273255</td>\n",
       "      <td>False</td>\n",
       "      <td>False</td>\n",
       "      <td>False</td>\n",
       "      <td>False</td>\n",
       "      <td>False</td>\n",
       "      <td>False</td>\n",
       "      <td>True</td>\n",
       "      <td>False</td>\n",
       "      <td>True</td>\n",
       "      <td>False</td>\n",
       "    </tr>\n",
       "    <tr>\n",
       "      <th>4459</th>\n",
       "      <td>4460.0</td>\n",
       "      <td>1.0</td>\n",
       "      <td>1827.07</td>\n",
       "      <td>2.823008</td>\n",
       "      <td>False</td>\n",
       "      <td>False</td>\n",
       "      <td>False</td>\n",
       "      <td>False</td>\n",
       "      <td>False</td>\n",
       "      <td>False</td>\n",
       "      <td>True</td>\n",
       "      <td>False</td>\n",
       "      <td>True</td>\n",
       "      <td>False</td>\n",
       "    </tr>\n",
       "  </tbody>\n",
       "</table>\n",
       "</div>"
      ],
      "text/plain": [
       "        case  p425    p344p  derived_consumption  year_2016  year_2017  \\\n",
       "4455  4456.0   1.0  1251.11           317.039883      False      False   \n",
       "4456  4457.0   2.0   409.63            13.431575      False      False   \n",
       "4457  4458.0   1.0   941.84            79.937362      False      False   \n",
       "4458  4459.0   2.0  1451.93            31.273255      False      False   \n",
       "4459  4460.0   1.0  1827.07             2.823008      False      False   \n",
       "\n",
       "      year_2018  year_2019  year_2020  year_2021  year_2022  WfhCor_1  \\\n",
       "4455      False      False      False      False       True     False   \n",
       "4456      False      False      False      False       True     False   \n",
       "4457      False      False      False      False       True      True   \n",
       "4458      False      False      False      False       True     False   \n",
       "4459      False      False      False      False       True     False   \n",
       "\n",
       "      treatment_1  did_effect  \n",
       "4455         True       False  \n",
       "4456         True       False  \n",
       "4457         True        True  \n",
       "4458         True       False  \n",
       "4459         True       False  "
      ]
     },
     "execution_count": 67,
     "metadata": {},
     "output_type": "execute_result"
    }
   ],
   "source": [
    "df_did_clean.tail()"
   ]
  },
  {
   "cell_type": "code",
   "execution_count": 70,
   "id": "491ed2c3-ad60-4b9e-aec7-1c88209c6024",
   "metadata": {},
   "outputs": [],
   "source": [
    "# export data to csv\n",
    "\n",
    "df_did_clean.to_csv('LCFS_DiD_data.csv', encoding='utf-8', index=True)"
   ]
  },
  {
   "cell_type": "code",
   "execution_count": 68,
   "id": "57265347-0c8e-458a-982b-a55c86589e90",
   "metadata": {},
   "outputs": [],
   "source": [
    "df_did_filtered = df_did_clean[df_did_clean['p425'] == 1].copy()"
   ]
  },
  {
   "cell_type": "code",
   "execution_count": 69,
   "id": "150924c4-8f21-4738-a3db-35e1c92f5467",
   "metadata": {},
   "outputs": [],
   "source": [
    "df_did_filtered.to_csv('LCFS_DiD_data_filtered.csv', encoding='utf-8', index=True)"
   ]
  },
  {
   "cell_type": "code",
   "execution_count": null,
   "id": "bad3a53f-5a06-42a8-a108-cc52c29ef20d",
   "metadata": {},
   "outputs": [],
   "source": []
  }
 ],
 "metadata": {
  "kernelspec": {
   "display_name": "Python 3 (ipykernel)",
   "language": "python",
   "name": "python3"
  },
  "language_info": {
   "codemirror_mode": {
    "name": "ipython",
    "version": 3
   },
   "file_extension": ".py",
   "mimetype": "text/x-python",
   "name": "python",
   "nbconvert_exporter": "python",
   "pygments_lexer": "ipython3",
   "version": "3.11.7"
  }
 },
 "nbformat": 4,
 "nbformat_minor": 5
}
